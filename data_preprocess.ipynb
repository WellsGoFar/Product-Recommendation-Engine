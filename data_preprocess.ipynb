{
 "metadata": {
  "language_info": {
   "codemirror_mode": {
    "name": "ipython",
    "version": 3
   },
   "file_extension": ".py",
   "mimetype": "text/x-python",
   "name": "python",
   "nbconvert_exporter": "python",
   "pygments_lexer": "ipython3",
   "version": "3.7.9-final"
  },
  "orig_nbformat": 2,
  "kernelspec": {
   "name": "python3",
   "display_name": "Python 3",
   "language": "python"
  }
 },
 "nbformat": 4,
 "nbformat_minor": 2,
 "cells": [
  {
   "cell_type": "code",
   "execution_count": 1,
   "metadata": {},
   "outputs": [],
   "source": [
    "import pandas as pd"
   ]
  },
  {
   "cell_type": "code",
   "execution_count": 9,
   "metadata": {},
   "outputs": [
    {
     "output_type": "execute_result",
     "data": {
      "text/plain": [
       "                            uniq_id            crawl_timestamp  \\\n",
       "0  c2d766ca982eca8304150849735ffef9  2016-03-25 22:59:23 +0000   \n",
       "1  7f7036a6d550aaa89d34c77bd39a5e48  2016-03-25 22:59:23 +0000   \n",
       "2  f449ec65dcbc041b6ae5e6a32717d01b  2016-03-25 22:59:23 +0000   \n",
       "3  0973b37acd0c664e3de26e97e5571454  2016-03-25 22:59:23 +0000   \n",
       "4  bc940ea42ee6bef5ac7cea3fb5cfbee7  2016-03-25 22:59:23 +0000   \n",
       "\n",
       "                                         product_url  \\\n",
       "0  http://www.flipkart.com/alisha-solid-women-s-c...   \n",
       "1  http://www.flipkart.com/fabhomedecor-fabric-do...   \n",
       "2  http://www.flipkart.com/aw-bellies/p/itmeh4grg...   \n",
       "3  http://www.flipkart.com/alisha-solid-women-s-c...   \n",
       "4  http://www.flipkart.com/sicons-all-purpose-arn...   \n",
       "\n",
       "                            product_name  \\\n",
       "0    Alisha Solid Women's Cycling Shorts   \n",
       "1    FabHomeDecor Fabric Double Sofa Bed   \n",
       "2                             AW Bellies   \n",
       "3    Alisha Solid Women's Cycling Shorts   \n",
       "4  Sicons All Purpose Arnica Dog Shampoo   \n",
       "\n",
       "                               product_category_tree               pid  \\\n",
       "0  [\"Clothing >> Women's Clothing >> Lingerie, Sl...  SRTEH2FF9KEDEFGF   \n",
       "1  [\"Furniture >> Living Room Furniture >> Sofa B...  SBEEH3QGU7MFYJFY   \n",
       "2  [\"Footwear >> Women's Footwear >> Ballerinas >...  SHOEH4GRSUBJGZXE   \n",
       "3  [\"Clothing >> Women's Clothing >> Lingerie, Sl...  SRTEH2F6HUZMQ6SJ   \n",
       "4  [\"Pet Supplies >> Grooming >> Skin & Coat Care...  PSOEH3ZYDMSYARJ5   \n",
       "\n",
       "   retail_price  discounted_price  \\\n",
       "0         999.0             379.0   \n",
       "1       32157.0           22646.0   \n",
       "2         999.0             499.0   \n",
       "3         699.0             267.0   \n",
       "4         220.0             210.0   \n",
       "\n",
       "                                               image  is_FK_Advantage_product  \\\n",
       "0  [\"http://img5a.flixcart.com/image/short/u/4/a/...                    False   \n",
       "1  [\"http://img6a.flixcart.com/image/sofa-bed/j/f...                    False   \n",
       "2  [\"http://img5a.flixcart.com/image/shoe/7/z/z/r...                    False   \n",
       "3  [\"http://img5a.flixcart.com/image/short/6/2/h/...                    False   \n",
       "4  [\"http://img5a.flixcart.com/image/pet-shampoo/...                    False   \n",
       "\n",
       "                                         description       product_rating  \\\n",
       "0  Key Features of Alisha Solid Women's Cycling S...  No rating available   \n",
       "1  FabHomeDecor Fabric Double Sofa Bed (Finish Co...  No rating available   \n",
       "2  Key Features of AW Bellies Sandals Wedges Heel...  No rating available   \n",
       "3  Key Features of Alisha Solid Women's Cycling S...  No rating available   \n",
       "4  Specifications of Sicons All Purpose Arnica Do...  No rating available   \n",
       "\n",
       "        overall_rating         brand  \\\n",
       "0  No rating available        Alisha   \n",
       "1  No rating available  FabHomeDecor   \n",
       "2  No rating available            AW   \n",
       "3  No rating available        Alisha   \n",
       "4  No rating available        Sicons   \n",
       "\n",
       "                              product_specifications  \n",
       "0  {\"product_specification\"=>[{\"key\"=>\"Number of ...  \n",
       "1  {\"product_specification\"=>[{\"key\"=>\"Installati...  \n",
       "2  {\"product_specification\"=>[{\"key\"=>\"Ideal For\"...  \n",
       "3  {\"product_specification\"=>[{\"key\"=>\"Number of ...  \n",
       "4  {\"product_specification\"=>[{\"key\"=>\"Pet Type\",...  "
      ],
      "text/html": "<div>\n<style scoped>\n    .dataframe tbody tr th:only-of-type {\n        vertical-align: middle;\n    }\n\n    .dataframe tbody tr th {\n        vertical-align: top;\n    }\n\n    .dataframe thead th {\n        text-align: right;\n    }\n</style>\n<table border=\"1\" class=\"dataframe\">\n  <thead>\n    <tr style=\"text-align: right;\">\n      <th></th>\n      <th>uniq_id</th>\n      <th>crawl_timestamp</th>\n      <th>product_url</th>\n      <th>product_name</th>\n      <th>product_category_tree</th>\n      <th>pid</th>\n      <th>retail_price</th>\n      <th>discounted_price</th>\n      <th>image</th>\n      <th>is_FK_Advantage_product</th>\n      <th>description</th>\n      <th>product_rating</th>\n      <th>overall_rating</th>\n      <th>brand</th>\n      <th>product_specifications</th>\n    </tr>\n  </thead>\n  <tbody>\n    <tr>\n      <th>0</th>\n      <td>c2d766ca982eca8304150849735ffef9</td>\n      <td>2016-03-25 22:59:23 +0000</td>\n      <td>http://www.flipkart.com/alisha-solid-women-s-c...</td>\n      <td>Alisha Solid Women's Cycling Shorts</td>\n      <td>[\"Clothing &gt;&gt; Women's Clothing &gt;&gt; Lingerie, Sl...</td>\n      <td>SRTEH2FF9KEDEFGF</td>\n      <td>999.0</td>\n      <td>379.0</td>\n      <td>[\"http://img5a.flixcart.com/image/short/u/4/a/...</td>\n      <td>False</td>\n      <td>Key Features of Alisha Solid Women's Cycling S...</td>\n      <td>No rating available</td>\n      <td>No rating available</td>\n      <td>Alisha</td>\n      <td>{\"product_specification\"=&gt;[{\"key\"=&gt;\"Number of ...</td>\n    </tr>\n    <tr>\n      <th>1</th>\n      <td>7f7036a6d550aaa89d34c77bd39a5e48</td>\n      <td>2016-03-25 22:59:23 +0000</td>\n      <td>http://www.flipkart.com/fabhomedecor-fabric-do...</td>\n      <td>FabHomeDecor Fabric Double Sofa Bed</td>\n      <td>[\"Furniture &gt;&gt; Living Room Furniture &gt;&gt; Sofa B...</td>\n      <td>SBEEH3QGU7MFYJFY</td>\n      <td>32157.0</td>\n      <td>22646.0</td>\n      <td>[\"http://img6a.flixcart.com/image/sofa-bed/j/f...</td>\n      <td>False</td>\n      <td>FabHomeDecor Fabric Double Sofa Bed (Finish Co...</td>\n      <td>No rating available</td>\n      <td>No rating available</td>\n      <td>FabHomeDecor</td>\n      <td>{\"product_specification\"=&gt;[{\"key\"=&gt;\"Installati...</td>\n    </tr>\n    <tr>\n      <th>2</th>\n      <td>f449ec65dcbc041b6ae5e6a32717d01b</td>\n      <td>2016-03-25 22:59:23 +0000</td>\n      <td>http://www.flipkart.com/aw-bellies/p/itmeh4grg...</td>\n      <td>AW Bellies</td>\n      <td>[\"Footwear &gt;&gt; Women's Footwear &gt;&gt; Ballerinas &gt;...</td>\n      <td>SHOEH4GRSUBJGZXE</td>\n      <td>999.0</td>\n      <td>499.0</td>\n      <td>[\"http://img5a.flixcart.com/image/shoe/7/z/z/r...</td>\n      <td>False</td>\n      <td>Key Features of AW Bellies Sandals Wedges Heel...</td>\n      <td>No rating available</td>\n      <td>No rating available</td>\n      <td>AW</td>\n      <td>{\"product_specification\"=&gt;[{\"key\"=&gt;\"Ideal For\"...</td>\n    </tr>\n    <tr>\n      <th>3</th>\n      <td>0973b37acd0c664e3de26e97e5571454</td>\n      <td>2016-03-25 22:59:23 +0000</td>\n      <td>http://www.flipkart.com/alisha-solid-women-s-c...</td>\n      <td>Alisha Solid Women's Cycling Shorts</td>\n      <td>[\"Clothing &gt;&gt; Women's Clothing &gt;&gt; Lingerie, Sl...</td>\n      <td>SRTEH2F6HUZMQ6SJ</td>\n      <td>699.0</td>\n      <td>267.0</td>\n      <td>[\"http://img5a.flixcart.com/image/short/6/2/h/...</td>\n      <td>False</td>\n      <td>Key Features of Alisha Solid Women's Cycling S...</td>\n      <td>No rating available</td>\n      <td>No rating available</td>\n      <td>Alisha</td>\n      <td>{\"product_specification\"=&gt;[{\"key\"=&gt;\"Number of ...</td>\n    </tr>\n    <tr>\n      <th>4</th>\n      <td>bc940ea42ee6bef5ac7cea3fb5cfbee7</td>\n      <td>2016-03-25 22:59:23 +0000</td>\n      <td>http://www.flipkart.com/sicons-all-purpose-arn...</td>\n      <td>Sicons All Purpose Arnica Dog Shampoo</td>\n      <td>[\"Pet Supplies &gt;&gt; Grooming &gt;&gt; Skin &amp; Coat Care...</td>\n      <td>PSOEH3ZYDMSYARJ5</td>\n      <td>220.0</td>\n      <td>210.0</td>\n      <td>[\"http://img5a.flixcart.com/image/pet-shampoo/...</td>\n      <td>False</td>\n      <td>Specifications of Sicons All Purpose Arnica Do...</td>\n      <td>No rating available</td>\n      <td>No rating available</td>\n      <td>Sicons</td>\n      <td>{\"product_specification\"=&gt;[{\"key\"=&gt;\"Pet Type\",...</td>\n    </tr>\n  </tbody>\n</table>\n</div>"
     },
     "metadata": {},
     "execution_count": 9
    }
   ],
   "source": [
    "df = pd.read_csv('resources/flipkart_com-ecommerce_sample.csv')\n",
    "# df.reset_index()\n",
    "df.head(5)"
   ]
  },
  {
   "cell_type": "code",
   "execution_count": 4,
   "metadata": {},
   "outputs": [
    {
     "output_type": "execute_result",
     "data": {
      "text/plain": [
       "uniq_id                       0\n",
       "crawl_timestamp               0\n",
       "product_url                   0\n",
       "product_name                  0\n",
       "product_category_tree         0\n",
       "pid                           0\n",
       "retail_price                 78\n",
       "discounted_price             78\n",
       "image                         3\n",
       "is_FK_Advantage_product       0\n",
       "description                   2\n",
       "product_rating                0\n",
       "overall_rating                0\n",
       "brand                      5864\n",
       "product_specifications       14\n",
       "dtype: int64"
      ]
     },
     "metadata": {},
     "execution_count": 4
    }
   ],
   "source": [
    "df.isnull().sum()"
   ]
  },
  {
   "cell_type": "code",
   "execution_count": 7,
   "metadata": {},
   "outputs": [
    {
     "output_type": "stream",
     "name": "stdout",
     "text": [
      "0    Key Features of Alisha Solid Women's Cycling S...\n1    FabHomeDecor Fabric Double Sofa Bed (Finish Co...\n2    Key Features of AW Bellies Sandals Wedges Heel...\nName: description, dtype: object\n"
     ]
    }
   ],
   "source": [
    "print(df['description'][:3])"
   ]
  },
  {
   "cell_type": "code",
   "execution_count": 8,
   "metadata": {},
   "outputs": [
    {
     "output_type": "stream",
     "name": "stdout",
     "text": [
      "0    {\"product_specification\"=>[{\"key\"=>\"Number of ...\n1    {\"product_specification\"=>[{\"key\"=>\"Installati...\n2    {\"product_specification\"=>[{\"key\"=>\"Ideal For\"...\nName: product_specifications, dtype: object\n"
     ]
    }
   ],
   "source": [
    "print(df['product_specifications'][:3])"
   ]
  },
  {
   "cell_type": "code",
   "execution_count": 22,
   "metadata": {},
   "outputs": [
    {
     "output_type": "stream",
     "name": "stdout",
     "text": [
      "Clothing  Women's Clothing  Lingerie, Sleep & Swimwear  Shorts  Alisha Shorts  Alisha Solid Women's Cycling Shorts\n"
     ]
    }
   ],
   "source": [
    "print(df['product_category_tree'][0].replace(\">>\", '').replace('[\"', '').replace('\"]', ''))"
   ]
  },
  {
   "cell_type": "code",
   "execution_count": 23,
   "metadata": {},
   "outputs": [],
   "source": [
    "features = ['product_name', 'product_category_tree']\n",
    "def combine_feature(row):\n",
    "    try:\n",
    "        return row['product_name'] + \" \" + row['product_category_tree'].replace(\">>\", '').replace('[\"', '').replace('\"]', '') #change\n",
    "    except Exception:\n",
    "        print(Exception)"
   ]
  },
  {
   "cell_type": "code",
   "execution_count": 36,
   "metadata": {},
   "outputs": [
    {
     "output_type": "execute_result",
     "data": {
      "text/plain": [
       "   index                           uniq_id            crawl_timestamp  \\\n",
       "0      0  c2d766ca982eca8304150849735ffef9  2016-03-25 22:59:23 +0000   \n",
       "1      1  7f7036a6d550aaa89d34c77bd39a5e48  2016-03-25 22:59:23 +0000   \n",
       "2      2  f449ec65dcbc041b6ae5e6a32717d01b  2016-03-25 22:59:23 +0000   \n",
       "3      3  0973b37acd0c664e3de26e97e5571454  2016-03-25 22:59:23 +0000   \n",
       "4      4  bc940ea42ee6bef5ac7cea3fb5cfbee7  2016-03-25 22:59:23 +0000   \n",
       "\n",
       "                                         product_url  \\\n",
       "0  http://www.flipkart.com/alisha-solid-women-s-c...   \n",
       "1  http://www.flipkart.com/fabhomedecor-fabric-do...   \n",
       "2  http://www.flipkart.com/aw-bellies/p/itmeh4grg...   \n",
       "3  http://www.flipkart.com/alisha-solid-women-s-c...   \n",
       "4  http://www.flipkart.com/sicons-all-purpose-arn...   \n",
       "\n",
       "                            product_name  \\\n",
       "0    Alisha Solid Women's Cycling Shorts   \n",
       "1    FabHomeDecor Fabric Double Sofa Bed   \n",
       "2                             AW Bellies   \n",
       "3    Alisha Solid Women's Cycling Shorts   \n",
       "4  Sicons All Purpose Arnica Dog Shampoo   \n",
       "\n",
       "                               product_category_tree               pid  \\\n",
       "0  [\"Clothing >> Women's Clothing >> Lingerie, Sl...  SRTEH2FF9KEDEFGF   \n",
       "1  [\"Furniture >> Living Room Furniture >> Sofa B...  SBEEH3QGU7MFYJFY   \n",
       "2  [\"Footwear >> Women's Footwear >> Ballerinas >...  SHOEH4GRSUBJGZXE   \n",
       "3  [\"Clothing >> Women's Clothing >> Lingerie, Sl...  SRTEH2F6HUZMQ6SJ   \n",
       "4  [\"Pet Supplies >> Grooming >> Skin & Coat Care...  PSOEH3ZYDMSYARJ5   \n",
       "\n",
       "   retail_price  discounted_price  \\\n",
       "0         999.0             379.0   \n",
       "1       32157.0           22646.0   \n",
       "2         999.0             499.0   \n",
       "3         699.0             267.0   \n",
       "4         220.0             210.0   \n",
       "\n",
       "                                               image  is_FK_Advantage_product  \\\n",
       "0  [\"http://img5a.flixcart.com/image/short/u/4/a/...                    False   \n",
       "1  [\"http://img6a.flixcart.com/image/sofa-bed/j/f...                    False   \n",
       "2  [\"http://img5a.flixcart.com/image/shoe/7/z/z/r...                    False   \n",
       "3  [\"http://img5a.flixcart.com/image/short/6/2/h/...                    False   \n",
       "4  [\"http://img5a.flixcart.com/image/pet-shampoo/...                    False   \n",
       "\n",
       "                                         description       product_rating  \\\n",
       "0  Key Features of Alisha Solid Women's Cycling S...  No rating available   \n",
       "1  FabHomeDecor Fabric Double Sofa Bed (Finish Co...  No rating available   \n",
       "2  Key Features of AW Bellies Sandals Wedges Heel...  No rating available   \n",
       "3  Key Features of Alisha Solid Women's Cycling S...  No rating available   \n",
       "4  Specifications of Sicons All Purpose Arnica Do...  No rating available   \n",
       "\n",
       "        overall_rating         brand  \\\n",
       "0  No rating available        Alisha   \n",
       "1  No rating available  FabHomeDecor   \n",
       "2  No rating available            AW   \n",
       "3  No rating available        Alisha   \n",
       "4  No rating available        Sicons   \n",
       "\n",
       "                              product_specifications  \\\n",
       "0  {\"product_specification\"=>[{\"key\"=>\"Number of ...   \n",
       "1  {\"product_specification\"=>[{\"key\"=>\"Installati...   \n",
       "2  {\"product_specification\"=>[{\"key\"=>\"Ideal For\"...   \n",
       "3  {\"product_specification\"=>[{\"key\"=>\"Number of ...   \n",
       "4  {\"product_specification\"=>[{\"key\"=>\"Pet Type\",...   \n",
       "\n",
       "                                   combined_features  \n",
       "0  Alisha Solid Women's Cycling Shorts Clothing  ...  \n",
       "1  FabHomeDecor Fabric Double Sofa Bed Furniture ...  \n",
       "2  AW Bellies Footwear  Women's Footwear  Balleri...  \n",
       "3  Alisha Solid Women's Cycling Shorts Clothing  ...  \n",
       "4  Sicons All Purpose Arnica Dog Shampoo Pet Supp...  "
      ],
      "text/html": "<div>\n<style scoped>\n    .dataframe tbody tr th:only-of-type {\n        vertical-align: middle;\n    }\n\n    .dataframe tbody tr th {\n        vertical-align: top;\n    }\n\n    .dataframe thead th {\n        text-align: right;\n    }\n</style>\n<table border=\"1\" class=\"dataframe\">\n  <thead>\n    <tr style=\"text-align: right;\">\n      <th></th>\n      <th>index</th>\n      <th>uniq_id</th>\n      <th>crawl_timestamp</th>\n      <th>product_url</th>\n      <th>product_name</th>\n      <th>product_category_tree</th>\n      <th>pid</th>\n      <th>retail_price</th>\n      <th>discounted_price</th>\n      <th>image</th>\n      <th>is_FK_Advantage_product</th>\n      <th>description</th>\n      <th>product_rating</th>\n      <th>overall_rating</th>\n      <th>brand</th>\n      <th>product_specifications</th>\n      <th>combined_features</th>\n    </tr>\n  </thead>\n  <tbody>\n    <tr>\n      <th>0</th>\n      <td>0</td>\n      <td>c2d766ca982eca8304150849735ffef9</td>\n      <td>2016-03-25 22:59:23 +0000</td>\n      <td>http://www.flipkart.com/alisha-solid-women-s-c...</td>\n      <td>Alisha Solid Women's Cycling Shorts</td>\n      <td>[\"Clothing &gt;&gt; Women's Clothing &gt;&gt; Lingerie, Sl...</td>\n      <td>SRTEH2FF9KEDEFGF</td>\n      <td>999.0</td>\n      <td>379.0</td>\n      <td>[\"http://img5a.flixcart.com/image/short/u/4/a/...</td>\n      <td>False</td>\n      <td>Key Features of Alisha Solid Women's Cycling S...</td>\n      <td>No rating available</td>\n      <td>No rating available</td>\n      <td>Alisha</td>\n      <td>{\"product_specification\"=&gt;[{\"key\"=&gt;\"Number of ...</td>\n      <td>Alisha Solid Women's Cycling Shorts Clothing  ...</td>\n    </tr>\n    <tr>\n      <th>1</th>\n      <td>1</td>\n      <td>7f7036a6d550aaa89d34c77bd39a5e48</td>\n      <td>2016-03-25 22:59:23 +0000</td>\n      <td>http://www.flipkart.com/fabhomedecor-fabric-do...</td>\n      <td>FabHomeDecor Fabric Double Sofa Bed</td>\n      <td>[\"Furniture &gt;&gt; Living Room Furniture &gt;&gt; Sofa B...</td>\n      <td>SBEEH3QGU7MFYJFY</td>\n      <td>32157.0</td>\n      <td>22646.0</td>\n      <td>[\"http://img6a.flixcart.com/image/sofa-bed/j/f...</td>\n      <td>False</td>\n      <td>FabHomeDecor Fabric Double Sofa Bed (Finish Co...</td>\n      <td>No rating available</td>\n      <td>No rating available</td>\n      <td>FabHomeDecor</td>\n      <td>{\"product_specification\"=&gt;[{\"key\"=&gt;\"Installati...</td>\n      <td>FabHomeDecor Fabric Double Sofa Bed Furniture ...</td>\n    </tr>\n    <tr>\n      <th>2</th>\n      <td>2</td>\n      <td>f449ec65dcbc041b6ae5e6a32717d01b</td>\n      <td>2016-03-25 22:59:23 +0000</td>\n      <td>http://www.flipkart.com/aw-bellies/p/itmeh4grg...</td>\n      <td>AW Bellies</td>\n      <td>[\"Footwear &gt;&gt; Women's Footwear &gt;&gt; Ballerinas &gt;...</td>\n      <td>SHOEH4GRSUBJGZXE</td>\n      <td>999.0</td>\n      <td>499.0</td>\n      <td>[\"http://img5a.flixcart.com/image/shoe/7/z/z/r...</td>\n      <td>False</td>\n      <td>Key Features of AW Bellies Sandals Wedges Heel...</td>\n      <td>No rating available</td>\n      <td>No rating available</td>\n      <td>AW</td>\n      <td>{\"product_specification\"=&gt;[{\"key\"=&gt;\"Ideal For\"...</td>\n      <td>AW Bellies Footwear  Women's Footwear  Balleri...</td>\n    </tr>\n    <tr>\n      <th>3</th>\n      <td>3</td>\n      <td>0973b37acd0c664e3de26e97e5571454</td>\n      <td>2016-03-25 22:59:23 +0000</td>\n      <td>http://www.flipkart.com/alisha-solid-women-s-c...</td>\n      <td>Alisha Solid Women's Cycling Shorts</td>\n      <td>[\"Clothing &gt;&gt; Women's Clothing &gt;&gt; Lingerie, Sl...</td>\n      <td>SRTEH2F6HUZMQ6SJ</td>\n      <td>699.0</td>\n      <td>267.0</td>\n      <td>[\"http://img5a.flixcart.com/image/short/6/2/h/...</td>\n      <td>False</td>\n      <td>Key Features of Alisha Solid Women's Cycling S...</td>\n      <td>No rating available</td>\n      <td>No rating available</td>\n      <td>Alisha</td>\n      <td>{\"product_specification\"=&gt;[{\"key\"=&gt;\"Number of ...</td>\n      <td>Alisha Solid Women's Cycling Shorts Clothing  ...</td>\n    </tr>\n    <tr>\n      <th>4</th>\n      <td>4</td>\n      <td>bc940ea42ee6bef5ac7cea3fb5cfbee7</td>\n      <td>2016-03-25 22:59:23 +0000</td>\n      <td>http://www.flipkart.com/sicons-all-purpose-arn...</td>\n      <td>Sicons All Purpose Arnica Dog Shampoo</td>\n      <td>[\"Pet Supplies &gt;&gt; Grooming &gt;&gt; Skin &amp; Coat Care...</td>\n      <td>PSOEH3ZYDMSYARJ5</td>\n      <td>220.0</td>\n      <td>210.0</td>\n      <td>[\"http://img5a.flixcart.com/image/pet-shampoo/...</td>\n      <td>False</td>\n      <td>Specifications of Sicons All Purpose Arnica Do...</td>\n      <td>No rating available</td>\n      <td>No rating available</td>\n      <td>Sicons</td>\n      <td>{\"product_specification\"=&gt;[{\"key\"=&gt;\"Pet Type\",...</td>\n      <td>Sicons All Purpose Arnica Dog Shampoo Pet Supp...</td>\n    </tr>\n  </tbody>\n</table>\n</div>"
     },
     "metadata": {},
     "execution_count": 36
    }
   ],
   "source": [
    "df['combined_features'] = df.apply(combine_feature, axis=1)\n",
    "df = df.reset_index()\n",
    "df.head(5)"
   ]
  },
  {
   "cell_type": "code",
   "execution_count": 37,
   "metadata": {},
   "outputs": [
    {
     "output_type": "stream",
     "name": "stdout",
     "text": [
      "Index(['index', 'uniq_id', 'crawl_timestamp', 'product_url', 'product_name',\n       'product_category_tree', 'pid', 'retail_price', 'discounted_price',\n       'image', 'is_FK_Advantage_product', 'description', 'product_rating',\n       'overall_rating', 'brand', 'product_specifications',\n       'combined_features'],\n      dtype='object')\n"
     ]
    }
   ],
   "source": [
    "print(df.columns)"
   ]
  },
  {
   "cell_type": "code",
   "execution_count": 26,
   "metadata": {},
   "outputs": [],
   "source": [
    "from sklearn.feature_extraction.text import CountVectorizer\n",
    "from sklearn.metrics.pairwise import cosine_similarity"
   ]
  },
  {
   "cell_type": "code",
   "execution_count": 27,
   "metadata": {},
   "outputs": [
    {
     "output_type": "stream",
     "name": "stdout",
     "text": [
      "<class 'numpy.ndarray'>\n"
     ]
    }
   ],
   "source": [
    "cv = CountVectorizer()\n",
    "count_matrix = cv.fit_transform(df['combined_features'])\n",
    "cosine_sim = cosine_similarity(count_matrix)\n",
    "print(type(cosine_sim))"
   ]
  },
  {
   "cell_type": "code",
   "execution_count": 34,
   "metadata": {},
   "outputs": [
    {
     "output_type": "stream",
     "name": "stdout",
     "text": [
      "[0.         0.09287269 0.         ... 0.         0.         0.        ]\n"
     ]
    }
   ],
   "source": [
    "print(cosine_sim[77])"
   ]
  },
  {
   "cell_type": "code",
   "execution_count": 42,
   "metadata": {},
   "outputs": [],
   "source": [
    "prod_user_likes = \"FabHomeDecor Fabric Double Sofa Bed\""
   ]
  },
  {
   "cell_type": "code",
   "execution_count": 40,
   "metadata": {},
   "outputs": [],
   "source": [
    "def get_prod_name_from_index(index):\n",
    "\treturn df[df.index == index][\"product_name\"].values[0]\n",
    "\n",
    "def get_index_from_prod_name(prod_name):\n",
    "\treturn df[df.product_name == prod_name][\"index\"].values[0]"
   ]
  },
  {
   "cell_type": "code",
   "execution_count": 43,
   "metadata": {},
   "outputs": [
    {
     "output_type": "stream",
     "name": "stdout",
     "text": [
      "1\n"
     ]
    }
   ],
   "source": [
    "prod_index = get_index_from_prod_name(prod_user_likes)\n",
    "print(prod_index)"
   ]
  },
  {
   "cell_type": "code",
   "execution_count": 44,
   "metadata": {},
   "outputs": [],
   "source": [
    "similar_products = list(enumerate(cosine_sim[prod_index]))\n",
    "\n",
    "sorted_similar_products = sorted(similar_products, key = lambda x:x[1], reverse=True)"
   ]
  },
  {
   "cell_type": "code",
   "execution_count": 53,
   "metadata": {},
   "outputs": [
    {
     "output_type": "stream",
     "name": "stdout",
     "text": [
      "Durian Harmony/2 Fabric 2 Seater Sofa\nDurian Helena Fabric 3 Seater Sofa\nFabHomeDecor Fabric Double Sofa Bed\nDurian Madison Leatherette 1 Seater Sofa\nFurnstyl Maxwell Fabric 1 Seater Sofa\nARRA Solid Wood 6 Seater Sofa\nDurian Dream/2 Leather 2 Seater Sofa\nDurian Fabric 1 Seater Sofa\nARRA Engineered Wood 2 Seater Sofa\nDurian Leather 1 Seater Sofa\nDurian Laze/3 Leather 3 Seater Sofa\nDurian Club/3 Leather 3 Seater Sofa\nARRA Solid Wood 5 Seater Sofa\nDurian Leatherette 2 Seater Sofa\nDurian Georgia Leatherette 1 Seater Sofa\nARRA Solid Wood 3 Seater Sofa\nDurian Clinton/A/3 Leather 3 Seater Sofa\nARRA Solid Wood 7 Seater Sofa\nDurian Fabric 3 Seater Sofa\nDurian Leather 2 Seater Sofa\nARRA Solid Wood 4 Seater Sofa\nARRA Solid Wood 1 Seater Sofa\nARRA Engineered Wood 6 Seater Sofa\nARRA Solid Wood 2 Seater Sofa\nDurian Fabric 2 Seater Sofa\nDurian Tulsa Leatherette 1 Seater Sofa\n"
     ]
    }
   ],
   "source": [
    "i=0\n",
    "recommended_products = set()\n",
    "for prod in sorted_similar_products:\n",
    "    # print(get_prod_name_from_index(prod[0]))\n",
    "    recommended_products.add(get_prod_name_from_index(prod[0]))\n",
    "    i=i+1\n",
    "    if i>40:\n",
    "        break\n",
    "# print(len(recommended_products))\n",
    "for i in recommended_products:\n",
    "    print(i)"
   ]
  },
  {
   "cell_type": "code",
   "execution_count": 62,
   "metadata": {},
   "outputs": [],
   "source": [
    "from numpy import save\n",
    "save('resources/cosine_sim', cosine_sim)"
   ]
  },
  {
   "cell_type": "code",
   "execution_count": 59,
   "metadata": {},
   "outputs": [
    {
     "output_type": "stream",
     "name": "stdout",
     "text": [
      "(20000, 20000)\n"
     ]
    }
   ],
   "source": [
    "print(cosine_sim.shape)"
   ]
  }
 ]
}