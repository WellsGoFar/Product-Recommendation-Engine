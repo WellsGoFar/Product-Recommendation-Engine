{
 "metadata": {
  "language_info": {
   "codemirror_mode": {
    "name": "ipython",
    "version": 3
   },
   "file_extension": ".py",
   "mimetype": "text/x-python",
   "name": "python",
   "nbconvert_exporter": "python",
   "pygments_lexer": "ipython3",
   "version": "3.7.9-final"
  },
  "orig_nbformat": 2,
  "kernelspec": {
   "name": "python3",
   "display_name": "Python 3",
   "language": "python"
  }
 },
 "nbformat": 4,
 "nbformat_minor": 2,
 "cells": [
  {
   "cell_type": "code",
   "execution_count": 6,
   "metadata": {},
   "outputs": [],
   "source": [
    "import pandas as pd\n",
    "from random import randint"
   ]
  },
  {
   "cell_type": "code",
   "execution_count": 2,
   "metadata": {},
   "outputs": [
    {
     "output_type": "execute_result",
     "data": {
      "text/plain": [
       "   index  ...                             product_specifications\n",
       "0      0  ...  {\"product_specification\"=>[{\"key\"=>\"Number of ...\n",
       "1      1  ...  {\"product_specification\"=>[{\"key\"=>\"Installati...\n",
       "2      2  ...  {\"product_specification\"=>[{\"key\"=>\"Ideal For\"...\n",
       "3      3  ...  {\"product_specification\"=>[{\"key\"=>\"Number of ...\n",
       "4      4  ...  {\"product_specification\"=>[{\"key\"=>\"Pet Type\",...\n",
       "\n",
       "[5 rows x 16 columns]"
      ],
      "text/html": "<div>\n<style scoped>\n    .dataframe tbody tr th:only-of-type {\n        vertical-align: middle;\n    }\n\n    .dataframe tbody tr th {\n        vertical-align: top;\n    }\n\n    .dataframe thead th {\n        text-align: right;\n    }\n</style>\n<table border=\"1\" class=\"dataframe\">\n  <thead>\n    <tr style=\"text-align: right;\">\n      <th></th>\n      <th>index</th>\n      <th>uniq_id</th>\n      <th>crawl_timestamp</th>\n      <th>product_url</th>\n      <th>product_name</th>\n      <th>product_category_tree</th>\n      <th>pid</th>\n      <th>retail_price</th>\n      <th>discounted_price</th>\n      <th>image</th>\n      <th>is_FK_Advantage_product</th>\n      <th>description</th>\n      <th>product_rating</th>\n      <th>overall_rating</th>\n      <th>brand</th>\n      <th>product_specifications</th>\n    </tr>\n  </thead>\n  <tbody>\n    <tr>\n      <th>0</th>\n      <td>0</td>\n      <td>c2d766ca982eca8304150849735ffef9</td>\n      <td>2016-03-25 22:59:23 +0000</td>\n      <td>http://www.flipkart.com/alisha-solid-women-s-c...</td>\n      <td>Alisha Solid Women's Cycling Shorts</td>\n      <td>[\"Clothing &gt;&gt; Women's Clothing &gt;&gt; Lingerie, Sl...</td>\n      <td>SRTEH2FF9KEDEFGF</td>\n      <td>999.0</td>\n      <td>379.0</td>\n      <td>[\"http://img5a.flixcart.com/image/short/u/4/a/...</td>\n      <td>False</td>\n      <td>Key Features of Alisha Solid Women's Cycling S...</td>\n      <td>No rating available</td>\n      <td>No rating available</td>\n      <td>Alisha</td>\n      <td>{\"product_specification\"=&gt;[{\"key\"=&gt;\"Number of ...</td>\n    </tr>\n    <tr>\n      <th>1</th>\n      <td>1</td>\n      <td>7f7036a6d550aaa89d34c77bd39a5e48</td>\n      <td>2016-03-25 22:59:23 +0000</td>\n      <td>http://www.flipkart.com/fabhomedecor-fabric-do...</td>\n      <td>FabHomeDecor Fabric Double Sofa Bed</td>\n      <td>[\"Furniture &gt;&gt; Living Room Furniture &gt;&gt; Sofa B...</td>\n      <td>SBEEH3QGU7MFYJFY</td>\n      <td>32157.0</td>\n      <td>22646.0</td>\n      <td>[\"http://img6a.flixcart.com/image/sofa-bed/j/f...</td>\n      <td>False</td>\n      <td>FabHomeDecor Fabric Double Sofa Bed (Finish Co...</td>\n      <td>No rating available</td>\n      <td>No rating available</td>\n      <td>FabHomeDecor</td>\n      <td>{\"product_specification\"=&gt;[{\"key\"=&gt;\"Installati...</td>\n    </tr>\n    <tr>\n      <th>2</th>\n      <td>2</td>\n      <td>f449ec65dcbc041b6ae5e6a32717d01b</td>\n      <td>2016-03-25 22:59:23 +0000</td>\n      <td>http://www.flipkart.com/aw-bellies/p/itmeh4grg...</td>\n      <td>AW Bellies</td>\n      <td>[\"Footwear &gt;&gt; Women's Footwear &gt;&gt; Ballerinas &gt;...</td>\n      <td>SHOEH4GRSUBJGZXE</td>\n      <td>999.0</td>\n      <td>499.0</td>\n      <td>[\"http://img5a.flixcart.com/image/shoe/7/z/z/r...</td>\n      <td>False</td>\n      <td>Key Features of AW Bellies Sandals Wedges Heel...</td>\n      <td>No rating available</td>\n      <td>No rating available</td>\n      <td>AW</td>\n      <td>{\"product_specification\"=&gt;[{\"key\"=&gt;\"Ideal For\"...</td>\n    </tr>\n    <tr>\n      <th>3</th>\n      <td>3</td>\n      <td>0973b37acd0c664e3de26e97e5571454</td>\n      <td>2016-03-25 22:59:23 +0000</td>\n      <td>http://www.flipkart.com/alisha-solid-women-s-c...</td>\n      <td>Alisha Solid Women's Cycling Shorts</td>\n      <td>[\"Clothing &gt;&gt; Women's Clothing &gt;&gt; Lingerie, Sl...</td>\n      <td>SRTEH2F6HUZMQ6SJ</td>\n      <td>699.0</td>\n      <td>267.0</td>\n      <td>[\"http://img5a.flixcart.com/image/short/6/2/h/...</td>\n      <td>False</td>\n      <td>Key Features of Alisha Solid Women's Cycling S...</td>\n      <td>No rating available</td>\n      <td>No rating available</td>\n      <td>Alisha</td>\n      <td>{\"product_specification\"=&gt;[{\"key\"=&gt;\"Number of ...</td>\n    </tr>\n    <tr>\n      <th>4</th>\n      <td>4</td>\n      <td>bc940ea42ee6bef5ac7cea3fb5cfbee7</td>\n      <td>2016-03-25 22:59:23 +0000</td>\n      <td>http://www.flipkart.com/sicons-all-purpose-arn...</td>\n      <td>Sicons All Purpose Arnica Dog Shampoo</td>\n      <td>[\"Pet Supplies &gt;&gt; Grooming &gt;&gt; Skin &amp; Coat Care...</td>\n      <td>PSOEH3ZYDMSYARJ5</td>\n      <td>220.0</td>\n      <td>210.0</td>\n      <td>[\"http://img5a.flixcart.com/image/pet-shampoo/...</td>\n      <td>False</td>\n      <td>Specifications of Sicons All Purpose Arnica Do...</td>\n      <td>No rating available</td>\n      <td>No rating available</td>\n      <td>Sicons</td>\n      <td>{\"product_specification\"=&gt;[{\"key\"=&gt;\"Pet Type\",...</td>\n    </tr>\n  </tbody>\n</table>\n</div>"
     },
     "metadata": {},
     "execution_count": 2
    }
   ],
   "source": [
    "df = pd.read_csv('resources/flipkart_com-ecommerce_sample.csv')\n",
    "df = df.reset_index()\n",
    "df.head(5)"
   ]
  },
  {
   "cell_type": "code",
   "execution_count": 12,
   "metadata": {},
   "outputs": [
    {
     "output_type": "stream",
     "name": "stdout",
     "text": [
      "Abony Women's Gathered Dress\n"
     ]
    }
   ],
   "source": [
    "print(df.iloc[1073]['product_name'])"
   ]
  },
  {
   "cell_type": "code",
   "execution_count": 21,
   "metadata": {},
   "outputs": [
    {
     "output_type": "stream",
     "name": "stdout",
     "text": [
      "  order_id  ...                       product_name\n0        0  ...  TPH Covers Agile Car Cover For NA\n\n[1 rows x 4 columns]\n"
     ]
    }
   ],
   "source": [
    "col_names = ['order_id', 'user_id', 'product_id', 'product_name']\n",
    "orders = pd.DataFrame(columns=col_names)\n",
    "for i in range(50):\n",
    "    rand = randint(0,20000)\n",
    "    orders = orders.append({'order_id': i, 'user_id': i+100,'product_id': df.iloc[rand]['uniq_id'], 'product_name': df.iloc[rand]['product_name']}, ignore_index=True)\n",
    "print(orders.head(1))"
   ]
  },
  {
   "cell_type": "code",
   "execution_count": 24,
   "metadata": {},
   "outputs": [
    {
     "output_type": "stream",
     "name": "stdout",
     "text": [
      "  order_id  ...                                       product_name\n0        0  ...                  TPH Covers Agile Car Cover For NA\n1        1  ...                             Clazz CB 35 L Backpack\n2        2  ...  Smiledrive Flexible Mobile Spiderpod Holder-Us...\n3        3  ...                        Maspar Cotton Set of Towels\n4        4  ...  VITAMINS Casual Sleeveless Embellished Baby Gi...\n\n[5 rows x 4 columns]\n"
     ]
    }
   ],
   "source": [
    "print(orders.head(5))"
   ]
  },
  {
   "cell_type": "code",
   "execution_count": 28,
   "metadata": {},
   "outputs": [],
   "source": [
    "orders.to_csv('resources/orders.csv', index=False)"
   ]
  },
  {
   "cell_type": "code",
   "execution_count": 29,
   "metadata": {},
   "outputs": [
    {
     "output_type": "stream",
     "name": "stdout",
     "text": [
      "   order_id  ...                                       product_name\n0         0  ...                  TPH Covers Agile Car Cover For NA\n1         1  ...                             Clazz CB 35 L Backpack\n2         2  ...  Smiledrive Flexible Mobile Spiderpod Holder-Us...\n3         3  ...                        Maspar Cotton Set of Towels\n4         4  ...  VITAMINS Casual Sleeveless Embellished Baby Gi...\n\n[5 rows x 4 columns]\n"
     ]
    }
   ],
   "source": [
    "o = pd.read_csv('resources/orders.csv')\n",
    "print(o.head())"
   ]
  }
 ]
}